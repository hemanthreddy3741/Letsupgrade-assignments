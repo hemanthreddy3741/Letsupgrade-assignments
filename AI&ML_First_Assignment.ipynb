{
  "nbformat": 4,
  "nbformat_minor": 0,
  "metadata": {
    "colab": {
      "name": "AI&ML First_Assignment.ipynb",
      "provenance": [],
      "collapsed_sections": [],
      "authorship_tag": "ABX9TyPGD0Yrz2DZ/IJxbGQQGxve",
      "include_colab_link": true
    },
    "kernelspec": {
      "name": "python3",
      "display_name": "Python 3"
    }
  },
  "cells": [
    {
      "cell_type": "markdown",
      "metadata": {
        "id": "view-in-github",
        "colab_type": "text"
      },
      "source": [
        "<a href=\"https://colab.research.google.com/github/hemanthreddy3741/Letsupgrade-assignments/blob/master/AI%26ML_First_Assignment.ipynb\" target=\"_parent\"><img src=\"https://colab.research.google.com/assets/colab-badge.svg\" alt=\"Open In Colab\"/></a>"
      ]
    },
    {
      "cell_type": "markdown",
      "metadata": {
        "id": "TrxZgOl8BezT"
      },
      "source": [
        "# 1.Write a program to subtract two complex numbers in Python.\n"
      ]
    },
    {
      "cell_type": "code",
      "metadata": {
        "id": "6nhu3gSFBjdY",
        "outputId": "bcffd391-e24b-463c-c858-58bf0a5af47b",
        "colab": {
          "base_uri": "https://localhost:8080/"
        }
      },
      "source": [
        "#complex numbers\n",
        "a=2+3j\n",
        "b=4+6j\n",
        "c=b-a\n",
        "print(c)"
      ],
      "execution_count": null,
      "outputs": [
        {
          "output_type": "stream",
          "text": [
            "(2+3j)\n"
          ],
          "name": "stdout"
        }
      ]
    },
    {
      "cell_type": "markdown",
      "metadata": {
        "id": "uixNR-UnCzIC"
      },
      "source": [
        "# 2.Write a program to find the fourth root of a number."
      ]
    },
    {
      "cell_type": "code",
      "metadata": {
        "id": "egszkdjEC2B0",
        "outputId": "de78dcda-915c-4222-82fb-8ecfbceb28a6",
        "colab": {
          "base_uri": "https://localhost:8080/"
        }
      },
      "source": [
        "#find the fourth root \n",
        "# A square root is 2^1/2 then fourth root is 2^1/4\n",
        "d=input(\"please enter a number\\n\")\n",
        "d=int(d)#this line of code is because input() returns a string value\n",
        "n=0.25\n",
        "e=pow(d,n)#here pow() is used for as \"power of\" \n",
        "print(\"the fourth root of\",d ,\"is\", e)\n"
      ],
      "execution_count": null,
      "outputs": [
        {
          "output_type": "stream",
          "text": [
            "please enter a number\n",
            "100\n",
            "the fourth root of 100 is 3.1622776601683795\n"
          ],
          "name": "stdout"
        }
      ]
    },
    {
      "cell_type": "markdown",
      "metadata": {
        "id": "SXzpn9dmHGOX"
      },
      "source": [
        "#3.Write a program to swap two numbers in Python with the help of a temporary variable."
      ]
    },
    {
      "cell_type": "code",
      "metadata": {
        "id": "53Yo3IsWHI3C",
        "outputId": "4b266910-ddd9-475b-a39a-2697299a8e36",
        "colab": {
          "base_uri": "https://localhost:8080/"
        }
      },
      "source": [
        "#swapping two numbers using temporary variable\n",
        "f=input(\"enter a number\\n\")\n",
        "g=input(\"enter a number\\n\")\n",
        "print(\"the numbers entered are\",f,g)\n",
        "t=0\n",
        "t=f\n",
        "f=g\n",
        "g=t\n",
        "print(\"the swapped numbers are\",f,g)\n"
      ],
      "execution_count": null,
      "outputs": [
        {
          "output_type": "stream",
          "text": [
            "enter a number\n",
            "55\n",
            "enter a number\n",
            "66\n",
            "the numbers entered are 55 66\n",
            "the swapped numbers are 66 55\n"
          ],
          "name": "stdout"
        }
      ]
    },
    {
      "cell_type": "markdown",
      "metadata": {
        "id": "qCDkCXZ8K2Zz"
      },
      "source": [
        "# 4.Write a program to swap two numbers in Python without using a temporary variable."
      ]
    },
    {
      "cell_type": "code",
      "metadata": {
        "id": "JdfkgUAYK44j",
        "outputId": "8cde58d1-6654-4358-b4e3-93af1dc17f6a",
        "colab": {
          "base_uri": "https://localhost:8080/"
        }
      },
      "source": [
        "#swapping two numbers without a temporary variable\n",
        "f=input(\"enter a number\\n\")\n",
        "g=input(\"enter a number\\n\")\n",
        "print(\"the numbers entered are\",f,g)\n",
        "f,g=g,f\n",
        "print(\"the swapped numbers are\",f,g)"
      ],
      "execution_count": null,
      "outputs": [
        {
          "output_type": "stream",
          "text": [
            "enter a number\n",
            "5\n",
            "enter a number\n",
            "8\n",
            "the numbers entered are 5 8\n",
            "the swapped numbers are 8 5\n"
          ],
          "name": "stdout"
        }
      ]
    },
    {
      "cell_type": "markdown",
      "metadata": {
        "id": "4gihnxFkQ41g"
      },
      "source": [
        "#5.Write a program to convert Fahrenheit to kelvin and celsius both."
      ]
    },
    {
      "cell_type": "code",
      "metadata": {
        "id": "1gr2NCGlQ_l8",
        "outputId": "441b2852-46c9-4f3d-d9c3-17e9885c5867",
        "colab": {
          "base_uri": "https://localhost:8080/",
          "height": 68
        }
      },
      "source": [
        "\n",
        "fahrenhiet=float(input(\"enter the fahrenheit degrees\\n\"))\n",
        "celsius=(fahrenhiet-32)*5/9\n",
        "kelvin = 273.5 + ((fahrenhiet - 32.0) * (5.0/9.0))\n",
        "print(\"the celsius value is\",celsius,\"and the kelvin value is\", kelvin)\n",
        "\n"
      ],
      "execution_count": 4,
      "outputs": [
        {
          "output_type": "stream",
          "text": [
            "enter the fahrenheit degrees\n",
            "98.0\n",
            "the celsius value is 36.666666666666664 and the kelvin value is 310.1666666666667\n"
          ],
          "name": "stdout"
        }
      ]
    },
    {
      "cell_type": "markdown",
      "metadata": {
        "id": "ukLPr7YX4DY-"
      },
      "source": [
        "#6.Write a program to demonstrate all the available data types in Python."
      ]
    },
    {
      "cell_type": "code",
      "metadata": {
        "id": "c-DHBuWIUV6F",
        "outputId": "78a4ba61-d0b5-4306-a531-9d4031acc615",
        "colab": {
          "base_uri": "https://localhost:8080/",
          "height": 85
        }
      },
      "source": [
        "#to demonstrate all the available data types \n",
        "a=10\n",
        "b=12.06\n",
        "c=\"string\"\n",
        "d=2+3j\n",
        "print(type(a))\n",
        "print(type(b))\n",
        "print(type(c))\n",
        "print(type(d))"
      ],
      "execution_count": 5,
      "outputs": [
        {
          "output_type": "stream",
          "text": [
            "<class 'int'>\n",
            "<class 'float'>\n",
            "<class 'str'>\n",
            "<class 'complex'>\n"
          ],
          "name": "stdout"
        }
      ]
    },
    {
      "cell_type": "code",
      "metadata": {
        "id": "9bu3nSv140lz"
      },
      "source": [
        ""
      ],
      "execution_count": null,
      "outputs": []
    }
  ]
}