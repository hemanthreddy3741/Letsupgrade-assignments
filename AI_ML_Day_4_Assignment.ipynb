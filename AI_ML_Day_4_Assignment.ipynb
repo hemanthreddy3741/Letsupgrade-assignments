{
  "nbformat": 4,
  "nbformat_minor": 0,
  "metadata": {
    "colab": {
      "name": "AI-ML_Day_4_Assignment.ipynb",
      "provenance": [],
      "authorship_tag": "ABX9TyMydOkY2V4kdoHYu7Ze+8dv",
      "include_colab_link": true
    },
    "kernelspec": {
      "name": "python3",
      "display_name": "Python 3"
    }
  },
  "cells": [
    {
      "cell_type": "markdown",
      "metadata": {
        "id": "view-in-github",
        "colab_type": "text"
      },
      "source": [
        "<a href=\"https://colab.research.google.com/github/hemanthreddy3741/Letsupgrade-assignments/blob/master/AI_ML_Day_4_Assignment.ipynb\" target=\"_parent\"><img src=\"https://colab.research.google.com/assets/colab-badge.svg\" alt=\"Open In Colab\"/></a>"
      ]
    },
    {
      "cell_type": "markdown",
      "metadata": {
        "id": "VaAJOrDem13g"
      },
      "source": [
        "# Day_4_assignment"
      ]
    },
    {
      "cell_type": "markdown",
      "metadata": {
        "id": "hB4eEQNJmk9n"
      },
      "source": [
        "#1.Research on whether addition, subtraction, multiplication, division, floor division, and modulo operations be performed on complex numbers. Based on your study, implement a Python program to demonstrate these operations."
      ]
    },
    {
      "cell_type": "code",
      "metadata": {
        "id": "v2AhtXdPmp6l",
        "outputId": "5c33368c-b349-4971-c143-c0b36b6de666",
        "colab": {
          "base_uri": "https://localhost:8080/",
          "height": 102
        }
      },
      "source": [
        "a= 2+3j\n",
        "b= 4+5j\n",
        "print(\"the addition of the complex numbers is \", a+b)\n",
        "print(\"the subtraction of the complex numbers is\", a-b)\n",
        "print(\"the multiplication of the complex numbers is\", a*b)\n",
        "print('the divsion of the complex numbers is', a/b)\n",
        "print(\"the modulo of the complex numbers is\", abs(a), \"&\" , abs(b))# here modulo of a complex number is defined as a+bj = sqrt(a^2 + b^2)\n",
        "#Here floor division of the complex numbers is not possible.\n"
      ],
      "execution_count": 12,
      "outputs": [
        {
          "output_type": "stream",
          "text": [
            "the addition of the complex numbers is  (6+8j)\n",
            "the subtraction of the complex numbers is (-2-2j)\n",
            "the multiplication of the complex numbers is (-7+22j)\n",
            "the divsion of the complex numbers is (0.5609756097560976+0.0487804878048781j)\n",
            "the modulo of the complex numbers is 3.605551275463989 & 6.4031242374328485\n"
          ],
          "name": "stdout"
        }
      ]
    },
    {
      "cell_type": "code",
      "metadata": {
        "id": "hE8ku-7NffVW"
      },
      "source": [
        ""
      ],
      "execution_count": null,
      "outputs": []
    },
    {
      "cell_type": "markdown",
      "metadata": {
        "id": "IEWGTADZfVPo"
      },
      "source": [
        "#2.Research on range() functions and its parameters. Create a markdown cell and write in your own words(no copy-paste from google please) what you understand about it. Implement a small program of your choice on the same."
      ]
    },
    {
      "cell_type": "markdown",
      "metadata": {
        "id": "ise0Gq9Wg7QC"
      },
      "source": [
        "#**range( ) function is used to generate a sequence of numbers in python**\n",
        "\n",
        "---\n",
        "\n",
        "\n",
        "\n",
        "\n",
        "\n",
        "\n",
        "\n"
      ]
    },
    {
      "cell_type": "markdown",
      "metadata": {
        "id": "2DOd1jNZkUb3"
      },
      "source": [
        "\n",
        "#1.range( ) function can be used to generate a sequence with a single number. where range(n)= 0 to (n-1).\n",
        "\n",
        "\n",
        " "
      ]
    },
    {
      "cell_type": "markdown",
      "metadata": {
        "id": "u0oGBmTgkJ_d"
      },
      "source": [
        "\n",
        "#2.range() function can also be initiated with the start and end numbers.\n",
        "\n"
      ]
    },
    {
      "cell_type": "markdown",
      "metadata": {
        "id": "jdRA_BGFmCgb"
      },
      "source": [
        "#3.range() function can also implemented with the step size.\n"
      ]
    },
    {
      "cell_type": "markdown",
      "metadata": {
        "id": "fDQuyBDcmWef"
      },
      "source": [
        "#4.range() function is always used with an iterable."
      ]
    },
    {
      "cell_type": "code",
      "metadata": {
        "id": "gUhFFIcGmhGf"
      },
      "source": [
        ""
      ],
      "execution_count": 2,
      "outputs": []
    },
    {
      "cell_type": "markdown",
      "metadata": {
        "id": "P2ev77WOmzaB"
      },
      "source": [
        "#3.Consider two numbers. Perform their subtraction and if the result of subtraction is greater than 25, print their multiplication result else print their division result."
      ]
    },
    {
      "cell_type": "code",
      "metadata": {
        "id": "UdHh3ev2mwxb",
        "outputId": "e7f1ac29-bc15-4db5-f6bb-efc857202929",
        "colab": {
          "base_uri": "https://localhost:8080/",
          "height": 68
        }
      },
      "source": [
        "a=int(input(\"enter the number \"))\n",
        "b=int(input(\"enter the number \"))\n",
        "c=abs(a-b)\n",
        "if c>25:\n",
        "  print(\"the multiplcation of the numbers is \",a*b)\n",
        "else:\n",
        "  print(\"the division of the numbers is \", a/b)\n"
      ],
      "execution_count": 15,
      "outputs": [
        {
          "output_type": "stream",
          "text": [
            "enter the number 50\n",
            "enter the number 100\n",
            "the multiplcation of the numbers is  5000\n"
          ],
          "name": "stdout"
        }
      ]
    },
    {
      "cell_type": "code",
      "metadata": {
        "id": "bHTJmkGqnFLq"
      },
      "source": [
        ""
      ],
      "execution_count": null,
      "outputs": []
    },
    {
      "cell_type": "markdown",
      "metadata": {
        "id": "eLbg4j4spEkI"
      },
      "source": [
        "#4.Consider a list of 10 elements of integer values. If the number in the list is divisible by 2, print the result as \"square of that number minus 2\"."
      ]
    },
    {
      "cell_type": "code",
      "metadata": {
        "id": "xQL2UdkipLRJ",
        "outputId": "879849cc-28a0-4c7c-a676-c2a7f83e4721",
        "colab": {
          "base_uri": "https://localhost:8080/",
          "height": 187
        }
      },
      "source": [
        "a=[1,2,3,4,5,6,7,8,9,10]\n",
        "for i in a:\n",
        "  if i%2==0:\n",
        "    b=(i**2)-2\n",
        "    print(\"the result is \",b)\n",
        "  else:\n",
        "    print(\"the number\", i ,\"is not divisible by 2\")"
      ],
      "execution_count": 20,
      "outputs": [
        {
          "output_type": "stream",
          "text": [
            "the number 1 is not divisible by 2\n",
            "the result is  2\n",
            "the number 3 is not divisible by 2\n",
            "the result is  14\n",
            "the number 5 is not divisible by 2\n",
            "the result is  34\n",
            "the number 7 is not divisible by 2\n",
            "the result is  62\n",
            "the number 9 is not divisible by 2\n",
            "the result is  98\n"
          ],
          "name": "stdout"
        }
      ]
    },
    {
      "cell_type": "code",
      "metadata": {
        "id": "UAgPkmfFrYCW"
      },
      "source": [
        ""
      ],
      "execution_count": null,
      "outputs": []
    },
    {
      "cell_type": "markdown",
      "metadata": {
        "id": "JDsJBCpbrQcu"
      },
      "source": [
        "#5.Consider a list of 10 elements. Print all the elements in the list which are greater than 7 when that number is divided 2."
      ]
    },
    {
      "cell_type": "code",
      "metadata": {
        "id": "HoYlgs-rqoPj",
        "outputId": "a9c63f0e-9a47-49ee-fe72-d053bd26d8af",
        "colab": {
          "base_uri": "https://localhost:8080/",
          "height": 51
        }
      },
      "source": [
        "a=[1,2,3,4,5,6,7,8,9,10]\n",
        "for i in a:\n",
        "  if i>7:\n",
        "    if i%2==0:\n",
        "      print(\" The number greater than 7 and divided by 2 is \", i)"
      ],
      "execution_count": 22,
      "outputs": [
        {
          "output_type": "stream",
          "text": [
            " The number greater than 7 and divided by 2 is  8\n",
            " The number greater than 7 and divided by 2 is  10\n"
          ],
          "name": "stdout"
        }
      ]
    },
    {
      "cell_type": "code",
      "metadata": {
        "id": "cGz9tZPPr6KR"
      },
      "source": [
        ""
      ],
      "execution_count": null,
      "outputs": []
    }
  ]
}